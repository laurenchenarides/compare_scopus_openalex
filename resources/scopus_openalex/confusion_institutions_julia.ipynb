{
 "cells": [
  {
   "cell_type": "code",
   "execution_count": 1,
   "id": "d8482193-8aec-443b-a946-d81e6aa6cf83",
   "metadata": {
    "jupyter": {
     "source_hidden": true
    }
   },
   "outputs": [],
   "source": [
    "# import pymongo\n",
    "\n",
    "# Connect to MongoDB\n",
    "# client = pymongo.MongoClient('localhost', 27017)\n",
    "\n",
    "# Access the 'dd-usda' database and 'publications' collection\n",
    "# db = client['dd-usda']\n",
    "# collection = db['publications']\n"
   ]
  },
  {
   "cell_type": "code",
   "execution_count": null,
   "id": "1ca3e351-b94f-4f66-9871-1af43cfe0c30",
   "metadata": {
    "jupyter": {
     "source_hidden": true
    }
   },
   "outputs": [],
   "source": [
    "# query = {\n",
    "#     'author_american': True,\n",
    "#     '$or': [\n",
    "#         {\n",
    "#             'aliases': {\n",
    "#                 '$in': [\n",
    "#                     \"USDA\", \"USDA Census\", \"US Department of Agriculture\",\n",
    "#                     \"United States Department of Agriculture\", \"NASS\", \"NASS Census of Agriculture\"\n",
    "#                 ]\n",
    "#             }\n",
    "#         },\n",
    "#         {\n",
    "#             'second_alias': {\n",
    "#                 '$in': [\n",
    "#                     \"USDA\", \"USDA Census\", \"US Department of Agriculture\",\n",
    "#                     \"United States Department of Agriculture\", \"NASS\", \"NASS Census of Agriculture\"\n",
    "#                 ]\n",
    "#             }\n",
    "#         }\n",
    "#     ]\n",
    "# }\n",
    "# # Define the projection to include only 'institutions' and 'year'\n",
    "# projection = {\n",
    "#     'institutions': 1,\n",
    "#     'year': 1,\n",
    "#     '_id': 0  # Exclude the '_id' field\n",
    "# }\n",
    "\n",
    "# # Retrieve all documents with the specified fields\n",
    "# cursor = collection.find(query, projection)\n",
    "# documents = list(cursor)\n"
   ]
  },
  {
   "cell_type": "code",
   "execution_count": 4,
   "id": "7abec960-c6c1-4670-a2da-b51e725dfad6",
   "metadata": {
    "jupyter": {
     "source_hidden": true
    }
   },
   "outputs": [],
   "source": [
    "# # Initialize an empty list to store institution-year pairs\n",
    "# institution_year_list = []\n",
    "\n",
    "# for doc in documents:\n",
    "#     year = doc.get('year')\n",
    "#     institutions = doc.get('institutions', [])\n",
    "    \n",
    "#     # Skip documents without a year\n",
    "#     if year is None:\n",
    "#         continue\n",
    "    \n",
    "#     # Process each institution\n",
    "#     for institution in institutions:\n",
    "#         name = institution.get('name')\n",
    "#         if name:\n",
    "#             # Append the institution and year to the list\n",
    "#             institution_year_list.append({'year': int(year), 'name': name.strip()})\n"
   ]
  },
  {
   "cell_type": "code",
   "execution_count": null,
   "id": "d33f950f-4606-4ff5-a486-0fd397edafa4",
   "metadata": {
    "jupyter": {
     "source_hidden": true
    }
   },
   "outputs": [],
   "source": [
    "# import pandas as pd\n",
    "\n",
    "# # Create a DataFrame from the institution-year list\n",
    "# openalex_institutions = pd.DataFrame(institution_year_list)\n",
    "\n",
    "# # Remove duplicates\n",
    "# openalex_institutions.drop_duplicates(inplace=True)\n",
    "\n",
    "# # Ensure 'year' is of integer type\n",
    "# openalex_institutions['year'] = openalex_institutions['year'].astype(int)\n",
    "\n",
    "# # Display the first few rows\n",
    "# print(\"OpenAlex Institutions DataFrame:\")\n",
    "# print(openalex_institutions.head())\n"
   ]
  },
  {
   "cell_type": "code",
   "execution_count": 1,
   "id": "4acfa64b-fa95-4c11-9b91-a564b836872e",
   "metadata": {},
   "outputs": [
    {
     "name": "stdout",
     "output_type": "stream",
     "text": [
      "OpenAlex Institutions DataFrame:\n",
      "   Unnamed: 0  year                                      name\n",
      "0           0  2017             Union of Concerned Scientists\n",
      "1           1  2017        Pacific Northwest Research Station\n",
      "2           2  2017                         US Forest Service\n",
      "3           3  2017                     Iowa State University\n",
      "4           4  2017  National Agricultural Statistics Service\n"
     ]
    },
    {
     "name": "stderr",
     "output_type": "stream",
     "text": [
      "C:\\Users\\rafal\\AppData\\Local\\Temp\\ipykernel_11228\\2728894023.py:1: DeprecationWarning: \n",
      "Pyarrow will become a required dependency of pandas in the next major release of pandas (pandas 3.0),\n",
      "(to allow more performant data types, such as the Arrow string type, and better interoperability with other libraries)\n",
      "but was not found to be installed on your system.\n",
      "If this would cause problems for you,\n",
      "please provide us feedback at https://github.com/pandas-dev/pandas/issues/54466\n",
      "        \n",
      "  import pandas as pd\n"
     ]
    }
   ],
   "source": [
    "import pandas as pd\n",
    "\n",
    "# Create a DataFrame from the institution-year list\n",
    "openalex_institutions = pd.read_csv(\"openalex_institutions.csv\")\n",
    "\n",
    "# Display the first few rows\n",
    "print(\"OpenAlex Institutions DataFrame:\")\n",
    "print(openalex_institutions.head())\n"
   ]
  },
  {
   "cell_type": "code",
   "execution_count": 2,
   "id": "54f7e2ca-2307-4600-864e-c6122cba05b7",
   "metadata": {},
   "outputs": [],
   "source": [
    "# openalex_institutions.to_csv(\"openalex_institutions.csv\")"
   ]
  },
  {
   "cell_type": "code",
   "execution_count": 3,
   "id": "bbea0613-1d7f-4cbd-9a20-cb15b1642200",
   "metadata": {},
   "outputs": [
    {
     "name": "stdout",
     "output_type": "stream",
     "text": [
      "\n",
      "Scopus Institutions DataFrame:\n",
      "   year                               name\n",
      "0  1995  Center for Mental Health Services\n",
      "1  1996          Southern Research Station\n",
      "2  1999         Erie County Medical Center\n",
      "3  1999     U.S. Department of Agriculture\n",
      "4  2000                                NaN\n"
     ]
    }
   ],
   "source": [
    "# Load the CSV file\n",
    "# From Sciserver, database DemocratizingData_USDA_2023, query: select distinct publication.year, publication_affiliation.institution_name from publication join publication_affiliation on publication.id=publication_affiliation.publication_id\n",
    "scopus_institutions = pd.read_csv('scopus_institutuions.csv')\n",
    "\n",
    "# Remove duplicates\n",
    "scopus_institutions.drop_duplicates(inplace=True)\n",
    "\n",
    "# Ensure 'year' is of integer type\n",
    "scopus_institutions['year'] = scopus_institutions['year'].astype(int)\n",
    "\n",
    "# Strip whitespace from names\n",
    "scopus_institutions['name'] = scopus_institutions['name'].str.strip()\n",
    "\n",
    "# Display the first few rows\n",
    "print(\"\\nScopus Institutions DataFrame:\")\n",
    "print(scopus_institutions.head())\n"
   ]
  },
  {
   "cell_type": "code",
   "execution_count": 4,
   "id": "9d85a3c8-b71e-49af-adab-7e7de0cdcbf1",
   "metadata": {},
   "outputs": [],
   "source": [
    "# Combine years from both datasets\n",
    "years = sorted(set(openalex_institutions['year']).union(set(scopus_institutions['year'])))\n"
   ]
  },
  {
   "cell_type": "code",
   "execution_count": 5,
   "id": "38d974ca-2c28-4c27-a7bf-3fd8b7b5b1a2",
   "metadata": {},
   "outputs": [],
   "source": [
    "# Initialize a list to store the results\n",
    "results = []\n",
    "\n",
    "for year in years:\n",
    "    # Get institutions for the current year from OpenAlex\n",
    "    oa_institutions_set = set(\n",
    "        openalex_institutions[openalex_institutions['year'] == year]['name'].str.lower().str.strip()\n",
    "    )\n",
    "    \n",
    "    # Get institutions for the current year from Scopus\n",
    "    scopus_institutions_set = set(\n",
    "        scopus_institutions[scopus_institutions['year'] == year]['name'].str.lower().str.strip()\n",
    "    )\n",
    "    \n",
    "    # Institutions only in OpenAlex\n",
    "    only_openalex = oa_institutions_set - scopus_institutions_set\n",
    "    \n",
    "    # Institutions only in Scopus\n",
    "    only_scopus = scopus_institutions_set - oa_institutions_set\n",
    "    \n",
    "    # Institutions in both\n",
    "    both = oa_institutions_set & scopus_institutions_set\n",
    "    \n",
    "    # Append the counts to the results list\n",
    "    results.append({\n",
    "        'year': year,\n",
    "        'only_openalex': len(only_openalex),\n",
    "        'only_scopus': len(only_scopus),\n",
    "        'both': len(both)\n",
    "    })\n"
   ]
  },
  {
   "cell_type": "code",
   "execution_count": 6,
   "id": "135e2229-06bf-4077-83f6-4142014964f3",
   "metadata": {},
   "outputs": [
    {
     "name": "stdout",
     "output_type": "stream",
     "text": [
      "\n",
      "Institution Counts by Year and Source:\n",
      "    year  only_openalex  only_scopus  both\n",
      "0   1991              0            1     0\n",
      "1   1992              0            1     0\n",
      "2   1993              0            5     0\n",
      "3   1994              0           13     0\n",
      "4   1995              0            5     0\n",
      "5   1996              0           20     0\n",
      "6   1997              0           23     0\n",
      "7   1998              0           21     0\n",
      "8   1999              0           26     0\n",
      "9   2000              0           18     0\n",
      "10  2001              0           21     0\n",
      "11  2002              0           29     0\n",
      "12  2003              0           44     0\n",
      "13  2004              0           60     0\n",
      "14  2005              0           74     0\n",
      "15  2006              0           98     0\n",
      "16  2007              0           56     0\n",
      "17  2008              0           89     0\n",
      "18  2009              0          127     0\n",
      "19  2010              0          108     0\n",
      "20  2011              0          100     0\n",
      "21  2012              0          136     0\n",
      "22  2013              0          146     0\n",
      "23  2014              0          173     0\n",
      "24  2015              0          243     0\n",
      "25  2016              0          176     0\n",
      "26  2017            736         2935   374\n",
      "27  2018            871         3305   457\n",
      "28  2019            711         3852   448\n",
      "29  2020            499         4090   368\n",
      "30  2021            615         5017   447\n",
      "31  2022            644         4721   405\n",
      "32  2023            764         4022   415\n",
      "33  2024            538            0     0\n"
     ]
    }
   ],
   "source": [
    "# Create a DataFrame from the results\n",
    "results_df = pd.DataFrame(results)\n",
    "\n",
    "# Sort the DataFrame by year\n",
    "results_df = results_df.sort_values('year')\n",
    "\n",
    "# Display the results\n",
    "print(\"\\nInstitution Counts by Year and Source:\")\n",
    "print(results_df)\n"
   ]
  },
  {
   "cell_type": "code",
   "execution_count": null,
   "id": "ace71eda-3859-4505-b0b6-9059d125d516",
   "metadata": {},
   "outputs": [],
   "source": []
  }
 ],
 "metadata": {
  "kernelspec": {
   "display_name": "Python 3 (ipykernel)",
   "language": "python",
   "name": "python3"
  },
  "language_info": {
   "codemirror_mode": {
    "name": "ipython",
    "version": 3
   },
   "file_extension": ".py",
   "mimetype": "text/x-python",
   "name": "python",
   "nbconvert_exporter": "python",
   "pygments_lexer": "ipython3",
   "version": "3.11.7"
  }
 },
 "nbformat": 4,
 "nbformat_minor": 5
}
